{
 "cells": [
  {
   "cell_type": "code",
   "execution_count": 1,
   "metadata": {},
   "outputs": [],
   "source": [
    "import sys\n",
    "sys.path.append(r'D:\\Users\\60490\\lh2')\n",
    "\n",
    "import pandas as pd\n",
    "from tqdm import tqdm"
   ]
  },
  {
   "cell_type": "code",
   "execution_count": 64,
   "metadata": {},
   "outputs": [
    {
     "name": "stderr",
     "output_type": "stream",
     "text": [
      "100%|██████████| 243/243 [29:10<00:00,  7.20s/it]"
     ]
    },
    {
     "name": "stdout",
     "output_type": "stream",
     "text": [
      "      trade_date ts_name ban1 ban2 ban3 1to2 2to3 3still\n",
      "0       20220101    柳药集团    1    0    0    0    0      0\n",
      "1       20220101    成飞集成    1    0    0    0    0      0\n",
      "2       20220101    亚钾国际    1    0    0    0    0      0\n",
      "3       20220101    开开实业    1    0    0    0    0      0\n",
      "4       20220101    东北制药    1    0    0    0    0      0\n",
      "...          ...     ...  ...  ...  ...  ...  ...    ...\n",
      "17244   20221230    中兴商业    0    0    1    0    0      1\n",
      "17245   20221230    安妮股份    0    0    1    0    1      0\n",
      "17246   20221230    中科云网    0    0    1    0    1      0\n",
      "17247   20221230     桂发祥    0    0    1    0    1      0\n",
      "17248   20221230    尚太科技    0    0    1    0    1      0\n",
      "\n",
      "[17249 rows x 8 columns]\n"
     ]
    },
    {
     "name": "stderr",
     "output_type": "stream",
     "text": [
      "\n"
     ]
    }
   ],
   "source": [
    "from lh.stockinfo.all_stock_daily import AllStock_daily\n",
    "from lh.stockinfo.single_stock_daily import SingleStock_daily\n",
    "from lh.time import Trade_time\n",
    "asd = AllStock_daily()\n",
    "ssd = SingleStock_daily()\n",
    "tt = Trade_time()\n",
    "\n",
    "daily_bans = pd.DataFrame(columns=['trade_date','ts_name','ban1','ban2','ban3','1to2','2to3','3still'])\n",
    "\n",
    "date_beg = '20220101'\n",
    "date_end = '20221231'\n",
    "trade_dates = tt.getTradeDateList(date_beg, date_end)\n",
    "ban1_pre, ban2_pre, ban3_pre = [], [], []\n",
    "for trade_date in tqdm(trade_dates):\n",
    "    ban1 = asd.get_only_k_bans_list(1, trade_date, True, True)\n",
    "    ban2 = asd.get_only_k_bans_list(2, trade_date, True, True)\n",
    "    ban3 = asd.get_least_k_bans_list(3, trade_date, True, True, True)\n",
    "    ban1to2 = [1 if ts_name in ban1_pre else 0 for ts_name in ban2]\n",
    "    ban2to3 = [1 if ts_name in ban2_pre else 0 for ts_name in ban3]\n",
    "    ban3still = [1 if ts_name in ban3_pre else 0 for ts_name in ban3]\n",
    "    # print(trade_date)\n",
    "    # print(ban1,ban2,ban3,sep='\\n')\n",
    "    daily_bans = pd.concat([daily_bans, \n",
    "                            pd.DataFrame({'trade_date':trade_date,'ts_name':ban1,\n",
    "                                          'ban1':1,'ban2':0,'ban3':0,\n",
    "                                          '1to2':0,'2to3':0,'3still':0})],ignore_index=True)\n",
    "    daily_bans = pd.concat([daily_bans, \n",
    "                            pd.DataFrame({'trade_date':trade_date,'ts_name':ban2,\n",
    "                                          'ban1':0,'ban2':1,'ban3':0,\n",
    "                                          '1to2':ban1to2,'2to3':0,'3still':0})],ignore_index=True)\n",
    "    daily_bans = pd.concat([daily_bans, \n",
    "                            pd.DataFrame({'trade_date':trade_date,'ts_name':ban3,\n",
    "                                          'ban1':0,'ban2':0,'ban3':1,\n",
    "                                          '1to2':0,'2to3':ban2to3,'3still':ban3still})],ignore_index=True)\n",
    "    ban1_pre, ban2_pre, ban3_pre = ban1, ban2, ban3\n",
    "\n",
    "print(daily_bans)"
   ]
  },
  {
   "cell_type": "code",
   "execution_count": 65,
   "metadata": {},
   "outputs": [],
   "source": [
    "with open(f'daily_bans_{date_beg}-{date_end}.csv', 'w', encoding='utf8') as fout:\n",
    "    daily_bans.to_csv(fout)"
   ]
  },
  {
   "cell_type": "code",
   "execution_count": 66,
   "metadata": {},
   "outputs": [
    {
     "name": "stdout",
     "output_type": "stream",
     "text": [
      "            ban1  ban2  ban3  2to3  3still\n",
      "trade_date                                \n",
      "20220101      42    10    14     0       0\n",
      "20220104      78    20    13     5       8\n",
      "20220105      30    19    13     6       7\n",
      "20220106      70     8    11     6       5\n",
      "20220107      28     7    10     2       8\n",
      "...          ...   ...   ...   ...     ...\n",
      "20221226      59     2     5     4       1\n",
      "20221227      36    13     4     1       3\n",
      "20221228      24     4     9     7       2\n",
      "20221229      35     6     7     2       5\n",
      "20221230      40     6     6     4       2\n",
      "\n",
      "[243 rows x 5 columns]\n"
     ]
    }
   ],
   "source": [
    "daily_bans_sumup = daily_bans.groupby('trade_date').sum()[['ban1','ban2','ban3','2to3','3still']]\n",
    "print(daily_bans_sumup)\n",
    "with open(f'daily_bans_sumup_{date_beg}-{date_end}.csv', 'w', encoding='utf8') as fout:\n",
    "    daily_bans_sumup.to_csv(fout)"
   ]
  },
  {
   "attachments": {},
   "cell_type": "markdown",
   "metadata": {},
   "source": [
    "### 二板明日有溢价的概率"
   ]
  },
  {
   "cell_type": "code",
   "execution_count": 5,
   "metadata": {},
   "outputs": [
    {
     "name": "stderr",
     "output_type": "stream",
     "text": [
      "100%|██████████| 140/140 [08:29<00:00,  3.64s/it]"
     ]
    },
    {
     "name": "stdout",
     "output_type": "stream",
     "text": [
      "829 904 0.9170353982300885\n"
     ]
    },
    {
     "name": "stderr",
     "output_type": "stream",
     "text": [
      "\n"
     ]
    }
   ],
   "source": [
    "from lh.stockinfo.all_stock_daily import AllStock_daily\n",
    "from lh.stockinfo.single_stock_daily import SingleStock_daily\n",
    "from lh.time import Trade_time\n",
    "asd = AllStock_daily()\n",
    "ssd = SingleStock_daily()\n",
    "tt = Trade_time()\n",
    "\n",
    "date_beg = '20220901'\n",
    "date_end = '20230401'\n",
    "trade_dates = tt.getTradeDateList(date_beg, date_end)\n",
    "ban2_pre = asd.get_only_k_bans_list(2, tt.preTradeDate(trade_dates[0]), False, True)\n",
    "cnt_ban2 = len(ban2_pre)\n",
    "cnt_ban2_yijia = 0\n",
    "for trade_date in tqdm(trade_dates):\n",
    "    ban2 = asd.get_only_k_bans_list(2, trade_date, False, True)\n",
    "    cnt_ban2 += len(ban2)\n",
    "    \n",
    "    for ts_code in ban2_pre:\n",
    "        daily = ssd.getDaily_df(ts_code, trade_date)\n",
    "        cnt_ban2_yijia += 1 if daily.pre_close.iloc[0] < daily.high.iloc[0] else 0\n",
    "\n",
    "    ban2_pre = ban2\n",
    "\n",
    "\n",
    "print(cnt_ban2_yijia, cnt_ban2, cnt_ban2_yijia/cnt_ban2)"
   ]
  },
  {
   "cell_type": "code",
   "execution_count": 6,
   "metadata": {},
   "outputs": [
    {
     "name": "stderr",
     "output_type": "stream",
     "text": [
      "100%|██████████| 140/140 [2:34:50<00:00, 66.36s/it] "
     ]
    },
    {
     "name": "stdout",
     "output_type": "stream",
     "text": [
      "1 4513 5086 0.8873377900117971\n",
      "2 829 904 0.9170353982300885\n",
      "3 320 360 0.8888888888888888\n",
      "4 155 164 0.9451219512195121\n",
      "5 82 96 0.8541666666666666\n",
      "6 40 47 0.851063829787234\n",
      "7 28 29 0.9655172413793104\n",
      "8 13 14 0.9285714285714286\n",
      "9 8 9 0.8888888888888888\n"
     ]
    },
    {
     "name": "stderr",
     "output_type": "stream",
     "text": [
      "\n"
     ]
    }
   ],
   "source": [
    "from lh.stockinfo.all_stock_daily import AllStock_daily\n",
    "from lh.stockinfo.single_stock_daily import SingleStock_daily\n",
    "from lh.time import Trade_time\n",
    "asd = AllStock_daily()\n",
    "ssd = SingleStock_daily()\n",
    "tt = Trade_time()\n",
    "\n",
    "date_beg = '20220901'\n",
    "date_end = '20230401'\n",
    "trade_dates = tt.getTradeDateList(date_beg, date_end)\n",
    "MAX_K = 9\n",
    "bank_pres = [asd.get_only_k_bans_list(k, tt.preTradeDate(trade_dates[0]), False, True) for k in range(1,MAX_K+1)]\n",
    "cnt_banks = [len(bank_pre) for bank_pre in bank_pres]\n",
    "cnt_bank_yijias = [0]*MAX_K\n",
    "for trade_date in tqdm(trade_dates):\n",
    "    banks = [asd.get_only_k_bans_list(k, trade_date, False, True) for k in range(1,MAX_K+1)]\n",
    "    for i in range(MAX_K):\n",
    "        cnt_banks[i] += len(banks[i])\n",
    "    \n",
    "    for i in range(MAX_K):\n",
    "        for ts_code in bank_pres[i]:\n",
    "            daily = ssd.getDaily_df(ts_code, trade_date)\n",
    "            cnt_bank_yijias[i] += 1 if daily.pre_close.iloc[0] < daily.high.iloc[0] else 0\n",
    "\n",
    "    bank_pres = banks\n",
    "\n",
    "for i in range(MAX_K):\n",
    "    k = i+1\n",
    "    print(k, cnt_bank_yijias[i], cnt_banks[i], cnt_bank_yijias[i]/cnt_banks[i])"
   ]
  },
  {
   "attachments": {},
   "cell_type": "markdown",
   "metadata": {},
   "source": [
    "### 二板第二天开盘入第三天有溢价的概率"
   ]
  },
  {
   "cell_type": "code",
   "execution_count": 8,
   "metadata": {},
   "outputs": [
    {
     "name": "stderr",
     "output_type": "stream",
     "text": [
      "100%|██████████| 140/140 [10:14<00:00,  4.39s/it]"
     ]
    },
    {
     "name": "stdout",
     "output_type": "stream",
     "text": [
      "797 506 0.6348808030112923\n"
     ]
    },
    {
     "name": "stderr",
     "output_type": "stream",
     "text": [
      "\n"
     ]
    }
   ],
   "source": [
    "from lh.stockinfo.all_stock_daily import AllStock_daily\n",
    "from lh.stockinfo.single_stock_daily import SingleStock_daily\n",
    "from lh.time import Trade_time\n",
    "asd = AllStock_daily()\n",
    "ssd = SingleStock_daily()\n",
    "tt = Trade_time()\n",
    "\n",
    "date_beg = '20220901'\n",
    "date_end = '20230401'\n",
    "trade_dates = tt.getTradeDateList(date_beg, date_end)\n",
    "ban2_pre = asd.get_only_k_bans_list(2, tt.preTradeDate(trade_dates[0]), False, True)\n",
    "ban2_post = []\n",
    "cnt_ban2_post = 0\n",
    "cnt_ban2_post_yijia = 0\n",
    "for trade_date in tqdm(trade_dates):\n",
    "    ban2 = asd.get_only_k_bans_list(2, trade_date, False, True)\n",
    "\n",
    "    for ts_code,buy_price in ban2_post:\n",
    "        daily = ssd.getDaily_df(ts_code, trade_date)\n",
    "        cnt_ban2_post_yijia += 1 if daily.high.iloc[0] > buy_price else 0\n",
    "    \n",
    "    ban2_post = []\n",
    "    for ts_code in ban2_pre:\n",
    "        daily = ssd.getDaily_df(ts_code, trade_date)\n",
    "        if daily.low.iloc[0] == daily.high.iloc[0]:\n",
    "            continue\n",
    "        cnt_ban2_post += 1\n",
    "        ban2_post.append((ts_code,daily.open.iloc[0]))\n",
    "\n",
    "    ban2_pre = ban2\n",
    "\n",
    "\n",
    "print(cnt_ban2_post, cnt_ban2_post_yijia, cnt_ban2_post_yijia/cnt_ban2_post)"
   ]
  },
  {
   "cell_type": "code",
   "execution_count": 17,
   "metadata": {},
   "outputs": [
    {
     "name": "stderr",
     "output_type": "stream",
     "text": [
      "100%|██████████| 140/140 [2:51:41<00:00, 73.58s/it] "
     ]
    },
    {
     "name": "stdout",
     "output_type": "stream",
     "text": [
      "797 506 0.6348808030112923\n",
      "1 4834 3093 0.6398427803061647\n",
      "2 797 506 0.6348808030112923\n",
      "3 297 182 0.6127946127946128\n",
      "4 124 84 0.6774193548387096\n",
      "5 78 43 0.5512820512820513\n",
      "6 33 24 0.7272727272727273\n",
      "7 23 11 0.4782608695652174\n",
      "8 10 8 0.8\n",
      "9 4 2 0.5\n"
     ]
    },
    {
     "name": "stderr",
     "output_type": "stream",
     "text": [
      "\n"
     ]
    }
   ],
   "source": [
    "from lh.stockinfo.all_stock_daily import AllStock_daily\n",
    "from lh.stockinfo.single_stock_daily import SingleStock_daily\n",
    "from lh.time import Trade_time\n",
    "asd = AllStock_daily()\n",
    "ssd = SingleStock_daily()\n",
    "tt = Trade_time()\n",
    "\n",
    "date_beg = '20220901'\n",
    "date_end = '20230401'\n",
    "trade_dates = tt.getTradeDateList(date_beg, date_end)\n",
    "MAX_K = 9\n",
    "bank_pres = [asd.get_only_k_bans_list(k, tt.preTradeDate(trade_dates[0]), False, True) for k in range(1,MAX_K+1)]\n",
    "bank_posts = [[]]*MAX_K\n",
    "cnt_bank_posts = [0 for _ in range(MAX_K)]\n",
    "cnt_bank_post_yijias = [0]*MAX_K\n",
    "for trade_date in tqdm(trade_dates):\n",
    "    banks = [asd.get_only_k_bans_list(k, trade_date, False, True) for k in range(1,MAX_K+1)]\n",
    "\n",
    "    for i in range(MAX_K):\n",
    "        for ts_code,buy_price in bank_posts[i]:\n",
    "            daily = ssd.getDaily_df(ts_code, trade_date)\n",
    "            cnt_bank_post_yijias[i] += 1 if daily.high.iloc[0] > buy_price else 0\n",
    "    \n",
    "    # bank_posts = [[]]*MAX_K  # list嵌套这么写的话内部多个list其实都指向同一个对象\n",
    "    bank_posts = [[] for _ in range(MAX_K)]\n",
    "    for i in range(MAX_K):\n",
    "        for ts_code in bank_pres[i]:\n",
    "            daily = ssd.getDaily_df(ts_code, trade_date)\n",
    "            if daily.low.iloc[0] == daily.high.iloc[0] or daily.vol.iloc[0]==0:\n",
    "                continue\n",
    "            cnt_bank_posts[i] += 1\n",
    "            bank_posts[i].append((ts_code,daily.open.iloc[0]))\n",
    "\n",
    "    bank_pres = banks\n",
    "\n",
    "\n",
    "print(cnt_ban2_post, cnt_ban2_post_yijia, cnt_ban2_post_yijia/cnt_ban2_post)\n",
    "for i in range(MAX_K):\n",
    "    k = i+1\n",
    "    print(k, cnt_bank_posts[i], cnt_bank_post_yijias[i], cnt_bank_post_yijias[i]/cnt_bank_posts[i])"
   ]
  }
 ],
 "metadata": {
  "kernelspec": {
   "display_name": "lh",
   "language": "python",
   "name": "python3"
  },
  "language_info": {
   "codemirror_mode": {
    "name": "ipython",
    "version": 3
   },
   "file_extension": ".py",
   "mimetype": "text/x-python",
   "name": "python",
   "nbconvert_exporter": "python",
   "pygments_lexer": "ipython3",
   "version": "3.10.8"
  },
  "orig_nbformat": 4,
  "vscode": {
   "interpreter": {
    "hash": "6f2b73cf8877edd21a7d02cfa96c3c39a5f372a2ca7fff319e5598761c2f7d29"
   }
  }
 },
 "nbformat": 4,
 "nbformat_minor": 2
}
