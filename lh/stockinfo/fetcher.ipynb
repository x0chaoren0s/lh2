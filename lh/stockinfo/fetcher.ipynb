{
 "cells": [
  {
   "cell_type": "code",
   "execution_count": 163,
   "metadata": {},
   "outputs": [],
   "source": [
    "from pytdx.hq import TdxHq_API, TDXParams\n",
    "api = TdxHq_API()\n",
    "\n",
    "import pandas as pd\n",
    "from typing import Tuple\n"
   ]
  },
  {
   "cell_type": "code",
   "execution_count": 126,
   "metadata": {},
   "outputs": [
    {
     "name": "stdout",
     "output_type": "stream",
     "text": [
      "      time  price    vol  buyorsell\n",
      "0    09:25  15.28  54715          2\n",
      "1    09:30  15.42  23948          0\n",
      "2    09:30  15.51  15633          0\n",
      "3    09:30  15.44   8791          1\n",
      "4    09:30  15.55   8214          0\n",
      "..     ...    ...    ...        ...\n",
      "512  09:55  16.29   1057          0\n",
      "513  09:55  16.28   1312          1\n",
      "514  09:55  16.25   2895          1\n",
      "515  09:55  16.24    943          1\n",
      "516  09:55  16.25   1331          0\n",
      "\n",
      "[517 rows x 4 columns]\n",
      "09:25\n",
      "True\n",
      "<class 'str'>\n"
     ]
    }
   ],
   "source": [
    "with api.connect('119.147.212.81', 7709):\n",
    "    # print(api.get_k_data('002089','2017-07-03','2017-07-10'))\n",
    "    # print(api.to_df(api.get_history_transaction_data(TDXParams.MARKET_SH, '601360', 0, 2400, 20230308)))\n",
    "    # print(api.to_df(api.get_security_bars(9,TDXParams.MARKET_SH, '601360', 0, 300)))\n",
    "    # print(api.to_df(api.get_history_minute_time_data(TDXParams.MARKET_SH, '601360', 20210908)))\n",
    "    # print(api.to_df(api.get_transaction_data(TDXParams.MARKET_SH, '601360', 0, 3000)))\n",
    "    print(api.to_df(api.get_history_transaction_data(TDXParams.MARKET_SH, '601360', 4000, 2000, 20230324)))\n",
    "    # print(api.to_df(api.get_history_transaction_data(TDXParams.MARKET_SH, '601360', 4000, 2000, 20230324)).iloc[[0,1,3,-3,-2,-1]])\n",
    "    # print(api.to_df(api.get_history_transaction_data(TDXParams.MARKET_SH, '601360', 2000, 2000, 20230324)).iloc[[0,1,3,-3,-2,-1]])\n",
    "    # print(api.to_df(api.get_history_transaction_data(TDXParams.MARKET_SH, '601360', 0, 2000, 20230324)).iloc[[0,1,3,-3,-2,-1]])\n",
    "    print(api.to_df(api.get_history_transaction_data(TDXParams.MARKET_SH, '601360', 4000, 2000, 20230324)).time.iloc[0])\n",
    "    print(api.to_df(api.get_history_transaction_data(TDXParams.MARKET_SH, '601360', 4000, 2000, 20230324)).time.iloc[0]=='09:25')\n",
    "    print(type(api.to_df(api.get_history_transaction_data(TDXParams.MARKET_SH, '601360', 4000, 2000, 20230324)).time.iloc[0]))"
   ]
  },
  {
   "attachments": {},
   "cell_type": "markdown",
   "metadata": {},
   "source": [
    "### 获取单股单日分笔数据"
   ]
  },
  {
   "cell_type": "code",
   "execution_count": 234,
   "metadata": {},
   "outputs": [
    {
     "name": "stdout",
     "output_type": "stream",
     "text": [
      "224\n",
      "(True,        time  price  vol  buyorsell\n",
      "0     09:25   9.65   11          2\n",
      "1     09:30   9.65   17          1\n",
      "2     09:30   9.65   15          0\n",
      "3     09:30   9.66    5          2\n",
      "4     09:30   9.67    8          0\n",
      "...     ...    ...  ...        ...\n",
      "1124  14:56   9.22   83          1\n",
      "1125  14:56   9.22   20          1\n",
      "1126  14:56   9.22    1          0\n",
      "1127  14:56   9.22   66          0\n",
      "1128  15:00   9.22   77          2\n",
      "\n",
      "[1129 rows x 4 columns])\n",
      "['11:12' '11:13' '11:14' '11:17' '11:18' '11:19' '11:20' '11:21' '11:22'\n",
      " '11:23' '11:24' '11:25' '11:26' '11:27' '11:28' '11:29' '13:00' '13:01'\n",
      " '13:02' '13:03' '13:04' '13:05' '13:06' '13:07' '13:08' '13:09' '13:12'\n",
      " '13:13' '13:14' '13:15' '13:16' '13:17' '13:18' '13:19' '13:20' '13:21'\n",
      " '13:22' '13:23' '13:24' '13:25' '13:26' '13:27' '13:28' '13:29' '13:30'\n",
      " '13:31' '13:32' '13:33' '13:34' '13:36' '13:39' '13:40' '13:41' '13:42'\n",
      " '13:43' '13:44' '13:45' '13:46' '13:47' '13:48' '13:49' '13:50' '13:51'\n",
      " '13:52' '13:53' '13:54' '13:55' '13:58' '13:59' '14:00' '14:01' '14:02'\n",
      " '14:03' '14:04' '14:05' '14:06' '14:07' '14:08' '14:09' '14:10' '14:11'\n",
      " '14:12' '14:14' '14:15' '14:17' '14:18' '14:19' '14:20' '14:21' '14:22'\n",
      " '14:23' '14:24' '14:25' '14:26' '14:27' '14:28' '14:29' '14:30' '14:31'\n",
      " '14:32' '14:33' '14:34' '14:35' '14:36' '14:37' '14:38' '14:39' '14:40'\n",
      " '14:41' '14:42' '14:43' '14:44' '14:45' '14:46' '14:47' '14:48' '14:49'\n",
      " '14:50' '14:51' '14:52' '14:53' '14:54' '14:55' '14:56' '15:00']\n"
     ]
    }
   ],
   "source": [
    "ts_code = '002380.SH'\n",
    "trade_date = '20220524'\n",
    "def get_fenbi_data(ts_code, trade_date) -> Tuple[bool, pd.DataFrame]:\n",
    "    code = ts_code[:6]\n",
    "    market = 1 if code[0]=='6' else 0\n",
    "    trade_date = int(trade_date)\n",
    "    ii = 0\n",
    "    with api.connect('119.147.212.81', 7709):\n",
    "        ret = api.to_df(api.get_history_transaction_data(market, code, ii, 2000, trade_date))\n",
    "        # print(ret)\n",
    "        has_data = not (len(ret)==0 or len(ret)==1 and ret.value.iloc[0] is None)\n",
    "        while has_data and ret.time.iloc[0] != '09:25':\n",
    "            ret = pd.concat([api.to_df(api.get_history_transaction_data(market, code, ii, 2000, trade_date)), ret], ignore_index=True)\n",
    "            ii += 2000\n",
    "    return has_data, ret\n",
    "print(len(get_fenbi_data(ts_code,trade_date)[1].time.unique()))\n",
    "print(get_fenbi_data(ts_code,trade_date))\n",
    "print(get_fenbi_data(ts_code,trade_date)[1].time.unique()[99:])"
   ]
  },
  {
   "cell_type": "code",
   "execution_count": 172,
   "metadata": {},
   "outputs": [
    {
     "name": "stdout",
     "output_type": "stream",
     "text": [
      "  value\n",
      "0  None\n",
      "True\n"
     ]
    }
   ],
   "source": [
    "ret=api.to_df(api.get_history_transaction_data(1, '601059', 0, 2000, trade_date))\n",
    "print(ret)\n",
    "print(len(ret)==1 and ret.value.iloc[0] is None)"
   ]
  },
  {
   "cell_type": "code",
   "execution_count": 158,
   "metadata": {},
   "outputs": [
    {
     "data": {
      "text/plain": [
       "'09:25'"
      ]
     },
     "execution_count": 158,
     "metadata": {},
     "output_type": "execute_result"
    }
   ],
   "source": [
    "import datetime\n",
    "str(datetime.date(2021,3,24))\n",
    "datetime.time(9,25).strftime('%H:%M')"
   ]
  },
  {
   "attachments": {},
   "cell_type": "markdown",
   "metadata": {},
   "source": [
    "### 单股单日分笔数据 -》 单股单日分钟k数据"
   ]
  },
  {
   "cell_type": "code",
   "execution_count": 250,
   "metadata": {},
   "outputs": [
    {
     "name": "stdout",
     "output_type": "stream",
     "text": [
      "       time  price  vol  buyorsell\n",
      "0     09:25  18.30  411          2\n",
      "1     09:30  18.29  120          1\n",
      "2     09:30  18.27  339          1\n",
      "3     09:30  18.27   90          0\n",
      "4     09:30  18.27    8          0\n",
      "...     ...    ...  ...        ...\n",
      "4984  14:56  18.45   60          0\n",
      "4985  14:56  18.45   13          1\n",
      "4986  14:56  18.46    5          0\n",
      "4987  14:57  18.45    1          1\n",
      "4988  15:00  18.45  825          2\n",
      "\n",
      "[4989 rows x 4 columns]\n"
     ]
    }
   ],
   "source": [
    "ts_code = '002380.XX'\n",
    "trade_date = '20230324'\n",
    "has_data, ret = get_fenbi_data(ts_code, trade_date)\n",
    "print(ret)"
   ]
  },
  {
   "cell_type": "code",
   "execution_count": 198,
   "metadata": {},
   "outputs": [],
   "source": [
    "# 此段不要变，用于设置满240个分钟\n",
    "ts_code = '002380.SH'\n",
    "trade_date = '20230324'\n",
    "TRADE_TIME = get_fenbi_data(ts_code,trade_date)[1].time.unique()"
   ]
  },
  {
   "cell_type": "code",
   "execution_count": 284,
   "metadata": {},
   "outputs": [
    {
     "name": "stdout",
     "output_type": "stream",
     "text": [
      "(True,          vol  open  close   low  high\n",
      "time                                 \n",
      "09:25   11.0  9.65   9.65  9.65  9.65\n",
      "09:30   63.0  9.65   9.66  9.65  9.67\n",
      "09:31   19.0  9.67   9.68  9.67  9.68\n",
      "09:32   63.0  9.68   9.68  9.68  9.68\n",
      "09:33   22.0  9.68   9.69  9.68  9.69\n",
      "...      ...   ...    ...   ...   ...\n",
      "14:54  101.0  9.23   9.23  9.22  9.23\n",
      "14:55  211.0  9.22   9.22  9.22  9.23\n",
      "14:56  283.0  9.23   9.22  9.22  9.23\n",
      "14:57    0.0  9.22   9.22  9.22  9.22\n",
      "15:00   77.0  9.22   9.22  9.22  9.22\n",
      "\n",
      "[240 rows x 5 columns])\n",
      "(True,          vol  open  close   low  high\n",
      "time                                 \n",
      "09:25   11.0  9.65   9.65  9.65  9.65\n",
      "09:30   63.0  9.65   9.66  9.65  9.67\n",
      "09:31   19.0  9.67   9.68  9.67  9.68\n",
      "09:32   63.0  9.68   9.68  9.68  9.68\n",
      "09:33   22.0  9.68   9.69  9.68  9.69\n",
      "...      ...   ...    ...   ...   ...\n",
      "14:54  101.0  9.23   9.23  9.22  9.23\n",
      "14:55  211.0  9.22   9.22  9.22  9.23\n",
      "14:56  283.0  9.23   9.22  9.22  9.23\n",
      "14:57    0.0  9.22   9.22  9.22  9.22\n",
      "15:00   77.0  9.22   9.22  9.22  9.22\n",
      "\n",
      "[240 rows x 5 columns])\n"
     ]
    }
   ],
   "source": [
    "def get_minute_k_data(ts_code, trade_date, fenbi=None) -> Tuple[bool, pd.DataFrame]:\n",
    "    '''\n",
    "    固定240条数据，但首尾不连续：\n",
    "\n",
    "    09:25, 09:30, 09:31, ..., 11:29, 13:00, ..., 14:57, 15:00\n",
    "\n",
    "    不一定240个分钟内都有成交，默认至少09:25一定会有开盘成交，后面没有成交的分钟里补价格同前收盘价，成交量为0\n",
    "\n",
    "    若传入fenbi，需保证实参fenbi存在\n",
    "    '''\n",
    "    if fenbi is None:\n",
    "        has_data, fenbi = get_fenbi_data(ts_code, trade_date)\n",
    "        if not has_data:\n",
    "            return has_data, fenbi\n",
    "    else:\n",
    "        has_data, fenbi = True, fenbi.copy()\n",
    "    ret = fenbi.groupby('time').sum()[['vol']]\n",
    "    ret['open'] = fenbi.groupby('time').first().price\n",
    "    ret['close'] = fenbi.groupby('time').last().price\n",
    "    ret['low'] = fenbi.groupby('time').price.min()\n",
    "    ret['high'] = fenbi.groupby('time').price.max()\n",
    "    for i,trade_time in enumerate(TRADE_TIME):\n",
    "        if trade_time not in ret.index:\n",
    "            fill_data = ret.loc[TRADE_TIME[i-1]].copy()\n",
    "            fill_data.vol = 0\n",
    "            fill_data.open = fill_data.low = fill_data.high = fill_data.close\n",
    "            ret.loc[trade_time] = fill_data\n",
    "    ret.sort_index(inplace=True)\n",
    "    return has_data, ret\n",
    "\n",
    "# ret = get_minute_k_data(ts_code,trade_date)\n",
    "# print(get_minute_k_data(ts_code,trade_date).loc['09:30'])\n",
    "# ret.loc['09:24']=ret.loc['09:30']\n",
    "# ret.sort_index(inplace=True)\n",
    "# print(ret)\n",
    "ts_code = '002380.SH'\n",
    "trade_date = '20220524'\n",
    "\n",
    "ts_code = '002380.SH'\n",
    "trade_date = '20220524'\n",
    "print(get_minute_k_data(ts_code,trade_date))\n",
    "print(get_minute_k_data(ts_code,trade_date,get_fenbi_data(ts_code,trade_date)[1]))\n",
    "# print(get_minute_k_data(ts_code,trade_date)[1].high.min())\n",
    "# print(get_minute_k_data(ts_code,trade_date)[1].low.max())"
   ]
  },
  {
   "attachments": {},
   "cell_type": "markdown",
   "metadata": {},
   "source": [
    "### 单股单日分钟k数据 -》 单股单日日k数据"
   ]
  },
  {
   "cell_type": "code",
   "execution_count": 285,
   "metadata": {},
   "outputs": [
    {
     "name": "stdout",
     "output_type": "stream",
     "text": [
      "(True,          vol  open  close   low  high\n",
      "time                                 \n",
      "09:25   11.0  9.65   9.65  9.65  9.65\n",
      "09:30   63.0  9.65   9.66  9.65  9.67\n",
      "09:31   19.0  9.67   9.68  9.67  9.68\n",
      "09:32   63.0  9.68   9.68  9.68  9.68\n",
      "09:33   22.0  9.68   9.69  9.68  9.69\n",
      "...      ...   ...    ...   ...   ...\n",
      "14:54  101.0  9.23   9.23  9.22  9.23\n",
      "14:55  211.0  9.22   9.22  9.22  9.23\n",
      "14:56  283.0  9.23   9.22  9.22  9.23\n",
      "14:57    0.0  9.22   9.22  9.22  9.22\n",
      "15:00   77.0  9.22   9.22  9.22  9.22\n",
      "\n",
      "[240 rows x 5 columns])\n"
     ]
    }
   ],
   "source": [
    "ts_code = '002380.SH'\n",
    "trade_date = '20220524'\n",
    "print(get_minute_k_data(ts_code,trade_date))\n",
    "# print(get_minute_k_data(ts_code,trade_date)[1].high.unique())"
   ]
  },
  {
   "cell_type": "code",
   "execution_count": 286,
   "metadata": {},
   "outputs": [
    {
     "name": "stdout",
     "output_type": "stream",
     "text": [
      "(True, vol      15708.00\n",
      "open         9.65\n",
      "close        9.22\n",
      "low          9.22\n",
      "high         9.72\n",
      "Name: 09:25, dtype: float64)\n",
      "(True, vol      15708.00\n",
      "open         9.65\n",
      "close        9.22\n",
      "low          9.22\n",
      "high         9.72\n",
      "Name: 09:25, dtype: float64)\n"
     ]
    }
   ],
   "source": [
    "def get_day_k_data_single_day(ts_code, trade_date, minute_k=None) -> Tuple[bool, pd.DataFrame]:\n",
    "    '''\n",
    "    若传入minute_k，需保证实参minute_k存在\n",
    "    '''\n",
    "    if minute_k is None:\n",
    "        has_data, minute_k = get_minute_k_data(ts_code, trade_date)\n",
    "        if not has_data:\n",
    "            return has_data, minute_k\n",
    "    else:\n",
    "        has_data, minute_k = True, minute_k.copy()\n",
    "    ret = minute_k.iloc[0]\n",
    "    ret.close = minute_k.iloc[-1].close\n",
    "    ret.low = minute_k.low.min()\n",
    "    ret.high = minute_k.high.max()\n",
    "    ret.vol = minute_k.vol.sum()\n",
    "    return has_data, ret\n",
    "\n",
    "ts_code = '002380.SH'\n",
    "trade_date = '20220524'\n",
    "print(get_day_k_data_single_day(ts_code,trade_date))\n",
    "print(get_day_k_data_single_day(ts_code,trade_date,get_minute_k_data(ts_code,trade_date)[1]))"
   ]
  },
  {
   "attachments": {},
   "cell_type": "markdown",
   "metadata": {},
   "source": [
    "### 获取单股单日的分笔、分钟k、日k数据"
   ]
  },
  {
   "cell_type": "code",
   "execution_count": 287,
   "metadata": {},
   "outputs": [
    {
     "name": "stdout",
     "output_type": "stream",
     "text": [
      "(True,        time  price  vol  buyorsell\n",
      "0     09:25   9.65   11          2\n",
      "1     09:30   9.65   17          1\n",
      "2     09:30   9.65   15          0\n",
      "3     09:30   9.66    5          2\n",
      "4     09:30   9.67    8          0\n",
      "...     ...    ...  ...        ...\n",
      "1124  14:56   9.22   83          1\n",
      "1125  14:56   9.22   20          1\n",
      "1126  14:56   9.22    1          0\n",
      "1127  14:56   9.22   66          0\n",
      "1128  15:00   9.22   77          2\n",
      "\n",
      "[1129 rows x 4 columns],          vol  open  close   low  high\n",
      "time                                 \n",
      "09:25   11.0  9.65   9.65  9.65  9.65\n",
      "09:30   63.0  9.65   9.66  9.65  9.67\n",
      "09:31   19.0  9.67   9.68  9.67  9.68\n",
      "09:32   63.0  9.68   9.68  9.68  9.68\n",
      "09:33   22.0  9.68   9.69  9.68  9.69\n",
      "...      ...   ...    ...   ...   ...\n",
      "14:54  101.0  9.23   9.23  9.22  9.23\n",
      "14:55  211.0  9.22   9.22  9.22  9.23\n",
      "14:56  283.0  9.23   9.22  9.22  9.23\n",
      "14:57    0.0  9.22   9.22  9.22  9.22\n",
      "15:00   77.0  9.22   9.22  9.22  9.22\n",
      "\n",
      "[240 rows x 5 columns], vol      15708.00\n",
      "open         9.65\n",
      "close        9.22\n",
      "low          9.22\n",
      "high         9.72\n",
      "Name: 09:25, dtype: float64)\n"
     ]
    }
   ],
   "source": [
    "def get_fenbi_minuteK_dayK_single_day(ts_code, trade_date) -> Tuple[bool, pd.DataFrame, pd.DataFrame, pd.DataFrame]:\n",
    "    has_data, fenbi = get_fenbi_data(ts_code, trade_date)\n",
    "    if not has_data:\n",
    "        return has_data, fenbi, fenbi.copy(), fenbi.copy()\n",
    "    has_data = True\n",
    "    minute_k = get_minute_k_data(ts_code, trade_date, fenbi)[1]\n",
    "    day_k = get_day_k_data_single_day(ts_code, trade_date, minute_k)[1]\n",
    "    return has_data, fenbi, minute_k, day_k\n",
    "    \n",
    "\n",
    "ts_code = '002380.SH'\n",
    "trade_date = '20220524'\n",
    "print(get_fenbi_minuteK_dayK_single_day(ts_code,trade_date))"
   ]
  },
  {
   "attachments": {},
   "cell_type": "markdown",
   "metadata": {},
   "source": [
    "### 批量保存历史分笔数据"
   ]
  },
  {
   "cell_type": "code",
   "execution_count": null,
   "metadata": {},
   "outputs": [],
   "source": []
  }
 ],
 "metadata": {
  "kernelspec": {
   "display_name": "lh",
   "language": "python",
   "name": "python3"
  },
  "language_info": {
   "codemirror_mode": {
    "name": "ipython",
    "version": 3
   },
   "file_extension": ".py",
   "mimetype": "text/x-python",
   "name": "python",
   "nbconvert_exporter": "python",
   "pygments_lexer": "ipython3",
   "version": "3.10.8"
  },
  "orig_nbformat": 4
 },
 "nbformat": 4,
 "nbformat_minor": 2
}
