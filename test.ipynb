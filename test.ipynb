{
 "cells": [
  {
   "cell_type": "code",
   "execution_count": 1,
   "metadata": {},
   "outputs": [
    {
     "name": "stdout",
     "output_type": "stream",
     "text": [
      "[1,-,-,-,-,-,-,-,-,-,-,-,-,-,-,-,-,-,-,-,-,-,-,-,-,-,-,-,-,-,-,-,-,-,-,-,-,-,-,-,-,-,-,-,-,-,-,-,-,-,-,-,-,-,-,-,-,-,-,-,1,-,-,-,-,-,-,-,-,-,-,-,-,-,-,-,-,-,-,-,-,-,-,-,-,-,-,-,-,-,-,-,-,-,-,-,-,-,-,-,-,-,-,-,-,-,-,-,-,-,-,-,-,-,-,-,-,-,-,-,1,-,-,-,-,-,-,-,-,-,-,-,-,-,-,-,-,-,-,-,-,-,-,-,-,-,-,-,-,-,-,-,-,-,-,-,-,-,-,-,-,-,-,-,-,-,-,-,-,-,-,-,-,-,-,-,-,-,-,-,1,-,-,-,-,-,-,-,-,-,-,-,-,-,-,-,-,-,-,-,-,-,-,-,-,-,-,-,-,-,-,-,-,-,-,-,-,-,-,-,-,-,-,-,-,-,-,-,-,-,-,-,-,-,-,-,-,-,-,-,]\n"
     ]
    }
   ],
   "source": [
    "print('[',end='')\n",
    "for i in range(240):\n",
    "    print('-' if i%60 else '1', end=',')\n",
    "print(']')"
   ]
  },
  {
   "cell_type": "code",
   "execution_count": 2,
   "metadata": {},
   "outputs": [
    {
     "name": "stdout",
     "output_type": "stream",
     "text": [
      "[\"09:30\",\"09:31\",\"09:32\",\"09:33\",\"09:34\",\"09:35\",\"09:36\",\"09:37\",\"09:38\",\"09:39\",\"09:40\",\"09:41\",\"09:42\",\"09:43\",\"09:44\",\"09:45\",\"09:46\",\"09:47\",\"09:48\",\"09:49\",\"09:50\",\"09:51\",\"09:52\",\"09:53\",\"09:54\",\"09:55\",\"09:56\",\"09:57\",\"09:58\",\"09:59\",\"10:00\",\"10:01\",\"10:02\",\"10:03\",\"10:04\",\"10:05\",\"10:06\",\"10:07\",\"10:08\",\"10:09\",\"10:10\",\"10:11\",\"10:12\",\"10:13\",\"10:14\",\"10:15\",\"10:16\",\"10:17\",\"10:18\",\"10:19\",\"10:20\",\"10:21\",\"10:22\",\"10:23\",\"10:24\",\"10:25\",\"10:26\",\"10:27\",\"10:28\",\"10:29\",\"10:30\",\"10:31\",\"10:32\",\"10:33\",\"10:34\",\"10:35\",\"10:36\",\"10:37\",\"10:38\",\"10:39\",\"10:40\",\"10:41\",\"10:42\",\"10:43\",\"10:44\",\"10:45\",\"10:46\",\"10:47\",\"10:48\",\"10:49\",\"10:50\",\"10:51\",\"10:52\",\"10:53\",\"10:54\",\"10:55\",\"10:56\",\"10:57\",\"10:58\",\"10:59\",\"11:00\",\"11:01\",\"11:02\",\"11:03\",\"11:04\",\"11:05\",\"11:06\",\"11:07\",\"11:08\",\"11:09\",\"11:10\",\"11:11\",\"11:12\",\"11:13\",\"11:14\",\"11:15\",\"11:16\",\"11:17\",\"11:18\",\"11:19\",\"11:20\",\"11:21\",\"11:22\",\"11:23\",\"11:24\",\"11:25\",\"11:26\",\"11:27\",\"11:28\",\"11:29\",\"11:30/13:00\",\"13:01\",\"13:02\",\"13:03\",\"13:04\",\"13:05\",\"13:06\",\"13:07\",\"13:08\",\"13:09\",\"13:10\",\"13:11\",\"13:12\",\"13:13\",\"13:14\",\"13:15\",\"13:16\",\"13:17\",\"13:18\",\"13:19\",\"13:20\",\"13:21\",\"13:22\",\"13:23\",\"13:24\",\"13:25\",\"13:26\",\"13:27\",\"13:28\",\"13:29\",\"13:30\",\"13:31\",\"13:32\",\"13:33\",\"13:34\",\"13:35\",\"13:36\",\"13:37\",\"13:38\",\"13:39\",\"13:40\",\"13:41\",\"13:42\",\"13:43\",\"13:44\",\"13:45\",\"13:46\",\"13:47\",\"13:48\",\"13:49\",\"13:50\",\"13:51\",\"13:52\",\"13:53\",\"13:54\",\"13:55\",\"13:56\",\"13:57\",\"13:58\",\"13:59\",\"14:00\",\"14:01\",\"14:02\",\"14:03\",\"14:04\",\"14:05\",\"14:06\",\"14:07\",\"14:08\",\"14:09\",\"14:10\",\"14:11\",\"14:12\",\"14:13\",\"14:14\",\"14:15\",\"14:16\",\"14:17\",\"14:18\",\"14:19\",\"14:20\",\"14:21\",\"14:22\",\"14:23\",\"14:24\",\"14:25\",\"14:26\",\"14:27\",\"14:28\",\"14:29\",\"14:30\",\"14:31\",\"14:32\",\"14:33\",\"14:34\",\"14:35\",\"14:36\",\"14:37\",\"14:38\",\"14:39\",\"14:40\",\"14:41\",\"14:42\",\"14:43\",\"14:44\",\"14:45\",\"14:46\",\"14:47\",\"14:48\",\"14:49\",\"14:50\",\"14:51\",\"14:52\",\"14:53\",\"14:54\",\"14:55\",\"14:56\",\"14:57\",\"14:58\",\"14:59\",\"15:00\"]\n"
     ]
    }
   ],
   "source": [
    "print('[',end='')\n",
    "for m in range(30,60):\n",
    "    print('\"09:%02d\"'%m,end=',')\n",
    "for m in range(0,60):\n",
    "    print('\"10:%02d\"'%m,end=',')\n",
    "for m in range(0,30):\n",
    "    print('\"11:%02d\"'%m,end=',')\n",
    "print('\"11:30/13:00\"',end=',')\n",
    "for m in range(1,60):\n",
    "    print('\"13:%02d\"'%m,end=',')\n",
    "for m in range(0,60):\n",
    "    print('\"14:%02d\"'%m,end=',')\n",
    "print('\"15:00\"]')"
   ]
  },
  {
   "cell_type": "code",
   "execution_count": 3,
   "metadata": {},
   "outputs": [
    {
     "data": {
      "text/plain": [
       "241"
      ]
     },
     "execution_count": 3,
     "metadata": {},
     "output_type": "execute_result"
    }
   ],
   "source": [
    "l=[\"09:30\",\"09:31\",\"09:32\",\"09:33\",\"09:34\",\"09:35\",\"09:36\",\"09:37\",\"09:38\",\"09:39\",\"09:40\",\"09:41\",\"09:42\",\"09:43\",\"09:44\",\"09:45\",\"09:46\",\"09:47\",\"09:48\",\"09:49\",\"09:50\",\"09:51\",\"09:52\",\"09:53\",\"09:54\",\"09:55\",\"09:56\",\"09:57\",\"09:58\",\"09:59\",\"10:00\",\"10:01\",\"10:02\",\"10:03\",\"10:04\",\"10:05\",\"10:06\",\"10:07\",\"10:08\",\"10:09\",\"10:10\",\"10:11\",\"10:12\",\"10:13\",\"10:14\",\"10:15\",\"10:16\",\"10:17\",\"10:18\",\"10:19\",\"10:20\",\"10:21\",\"10:22\",\"10:23\",\"10:24\",\"10:25\",\"10:26\",\"10:27\",\"10:28\",\"10:29\",\"10:30\",\"10:31\",\"10:32\",\"10:33\",\"10:34\",\"10:35\",\"10:36\",\"10:37\",\"10:38\",\"10:39\",\"10:40\",\"10:41\",\"10:42\",\"10:43\",\"10:44\",\"10:45\",\"10:46\",\"10:47\",\"10:48\",\"10:49\",\"10:50\",\"10:51\",\"10:52\",\"10:53\",\"10:54\",\"10:55\",\"10:56\",\"10:57\",\"10:58\",\"10:59\",\"11:00\",\"11:01\",\"11:02\",\"11:03\",\"11:04\",\"11:05\",\"11:06\",\"11:07\",\"11:08\",\"11:09\",\"11:10\",\"11:11\",\"11:12\",\"11:13\",\"11:14\",\"11:15\",\"11:16\",\"11:17\",\"11:18\",\"11:19\",\"11:20\",\"11:21\",\"11:22\",\"11:23\",\"11:24\",\"11:25\",\"11:26\",\"11:27\",\"11:28\",\"11:29\",\"11:30/13:00\",\"13:01\",\"13:02\",\"13:03\",\"13:04\",\"13:05\",\"13:06\",\"13:07\",\"13:08\",\"13:09\",\"13:10\",\"13:11\",\"13:12\",\"13:13\",\"13:14\",\"13:15\",\"13:16\",\"13:17\",\"13:18\",\"13:19\",\"13:20\",\"13:21\",\"13:22\",\"13:23\",\"13:24\",\"13:25\",\"13:26\",\"13:27\",\"13:28\",\"13:29\",\"13:30\",\"13:31\",\"13:32\",\"13:33\",\"13:34\",\"13:35\",\"13:36\",\"13:37\",\"13:38\",\"13:39\",\"13:40\",\"13:41\",\"13:42\",\"13:43\",\"13:44\",\"13:45\",\"13:46\",\"13:47\",\"13:48\",\"13:49\",\"13:50\",\"13:51\",\"13:52\",\"13:53\",\"13:54\",\"13:55\",\"13:56\",\"13:57\",\"13:58\",\"13:59\",\"14:00\",\"14:01\",\"14:02\",\"14:03\",\"14:04\",\"14:05\",\"14:06\",\"14:07\",\"14:08\",\"14:09\",\"14:10\",\"14:11\",\"14:12\",\"14:13\",\"14:14\",\"14:15\",\"14:16\",\"14:17\",\"14:18\",\"14:19\",\"14:20\",\"14:21\",\"14:22\",\"14:23\",\"14:24\",\"14:25\",\"14:26\",\"14:27\",\"14:28\",\"14:29\",\"14:30\",\"14:31\",\"14:32\",\"14:33\",\"14:34\",\"14:35\",\"14:36\",\"14:37\",\"14:38\",\"14:39\",\"14:40\",\"14:41\",\"14:42\",\"14:43\",\"14:44\",\"14:45\",\"14:46\",\"14:47\",\"14:48\",\"14:49\",\"14:50\",\"14:51\",\"14:52\",\"14:53\",\"14:54\",\"14:55\",\"14:56\",\"14:57\",\"14:58\",\"14:59\",\"15:00\"]\n",
    "len(l)"
   ]
  },
  {
   "cell_type": "code",
   "execution_count": 4,
   "metadata": {},
   "outputs": [
    {
     "name": "stdout",
     "output_type": "stream",
     "text": [
      "tdx_api connected from get_tdx_api()\n"
     ]
    }
   ],
   "source": [
    "from lh import SingleStock_daily, tdx_disconnect, get_tdx_api, Engine_2ban\n",
    "from lh.time.trade_time import Trade_time\n",
    "from lh.utils.dongcai_df_fetcher import Dongcai_df_fetcher\n",
    "from lh.utils.tdx_df_fetcher import Tdx_df_fetcher\n",
    "tt = Trade_time()\n",
    "ssd = SingleStock_daily()\n",
    "df = Dongcai_df_fetcher()\n",
    "tf = Tdx_df_fetcher()"
   ]
  },
  {
   "cell_type": "code",
   "execution_count": 5,
   "metadata": {},
   "outputs": [
    {
     "name": "stdout",
     "output_type": "stream",
     "text": [
      "[Tdx_df_fetcher@get_fenshi_df] 603528.SH 20230227:  using saved buffer.\n",
      "[9.96]\n"
     ]
    }
   ],
   "source": [
    "price=tf.get_fenshi_df('603528.SH','20230227').price.tolist()\n",
    "print(price)"
   ]
  },
  {
   "cell_type": "code",
   "execution_count": 6,
   "metadata": {},
   "outputs": [
    {
     "name": "stdout",
     "output_type": "stream",
     "text": [
      "[Tdx_df_fetcher@get_fenshi_df] 603528.SH 20230227:  using saved buffer.\n",
      "[8335]\n"
     ]
    }
   ],
   "source": [
    "vol=tf.get_fenshi_df('603528.SH','20230227').vol.tolist()\n",
    "print(vol)"
   ]
  },
  {
   "cell_type": "code",
   "execution_count": 7,
   "metadata": {},
   "outputs": [
    {
     "name": "stdout",
     "output_type": "stream",
     "text": [
      "[83016.6]\n"
     ]
    }
   ],
   "source": [
    "tot_price = [price[0]*vol[0]]\n",
    "for i in range(1,len(price)):\n",
    "    tot_price.append(tot_price[i-1]+price[i]*vol[i])\n",
    "print(tot_price)"
   ]
  },
  {
   "cell_type": "code",
   "execution_count": 8,
   "metadata": {},
   "outputs": [
    {
     "name": "stdout",
     "output_type": "stream",
     "text": [
      "[8335]\n"
     ]
    }
   ],
   "source": [
    "tot_vol = [vol[0]]\n",
    "for i in range(1,len(vol)):\n",
    "    tot_vol.append(tot_vol[i-1]+vol[i])\n",
    "print(tot_vol)"
   ]
  },
  {
   "cell_type": "code",
   "execution_count": 9,
   "metadata": {},
   "outputs": [
    {
     "name": "stdout",
     "output_type": "stream",
     "text": [
      "[9.96]\n"
     ]
    }
   ],
   "source": [
    "avg_price = [tp/tv for tp,tv in zip(tot_price,tot_vol)]\n",
    "print(avg_price)"
   ]
  },
  {
   "cell_type": "code",
   "execution_count": 10,
   "metadata": {},
   "outputs": [],
   "source": [
    "from pytdx.hq import TdxHq_API\n",
    "api = TdxHq_API()"
   ]
  },
  {
   "cell_type": "code",
   "execution_count": 11,
   "metadata": {},
   "outputs": [
    {
     "name": "stdout",
     "output_type": "stream",
     "text": [
      "       code  volunit  decimal_point   name     pre_close\n",
      "0    395001      100              2   主板Ａ股  1.514000e+03\n",
      "1    395002      100              2   主板Ｂ股  1.920000e+02\n",
      "2    395004      100              2    创业板  1.255000e+03\n",
      "3    395005      100              2   主板DR  5.877472e-39\n",
      "4    395006      100              2  创业板DR  5.877472e-39\n",
      "..      ...      ...            ...    ...           ...\n",
      "995  002114      100              2   罗平锌电  6.550000e+00\n",
      "996  002115      100              2   三维通信  6.020000e+00\n",
      "997  002116      100              2   中国海诚  1.096020e+03\n",
      "998  002117      100              2   东港股份  1.520175e+02\n",
      "999  002118      100              2   紫鑫药业  1.650000e+00\n",
      "\n",
      "[1000 rows x 5 columns]\n"
     ]
    }
   ],
   "source": [
    "with api.connect('119.147.212.81', 7709):\n",
    "    print(api.to_df(api.get_security_list(0, 0)))"
   ]
  },
  {
   "cell_type": "code",
   "execution_count": 12,
   "metadata": {},
   "outputs": [],
   "source": [
    "import tushare as ts"
   ]
  },
  {
   "cell_type": "code",
   "execution_count": 13,
   "metadata": {},
   "outputs": [
    {
     "data": {
      "text/html": [
       "<div>\n",
       "<style scoped>\n",
       "    .dataframe tbody tr th:only-of-type {\n",
       "        vertical-align: middle;\n",
       "    }\n",
       "\n",
       "    .dataframe tbody tr th {\n",
       "        vertical-align: top;\n",
       "    }\n",
       "\n",
       "    .dataframe thead th {\n",
       "        text-align: right;\n",
       "    }\n",
       "</style>\n",
       "<table border=\"1\" class=\"dataframe\">\n",
       "  <thead>\n",
       "    <tr style=\"text-align: right;\">\n",
       "      <th></th>\n",
       "      <th>ts_code</th>\n",
       "      <th>symbol</th>\n",
       "      <th>name</th>\n",
       "      <th>area</th>\n",
       "      <th>industry</th>\n",
       "      <th>list_date</th>\n",
       "    </tr>\n",
       "  </thead>\n",
       "  <tbody>\n",
       "    <tr>\n",
       "      <th>0</th>\n",
       "      <td>000001.SZ</td>\n",
       "      <td>000001</td>\n",
       "      <td>平安银行</td>\n",
       "      <td>深圳</td>\n",
       "      <td>银行</td>\n",
       "      <td>19910403</td>\n",
       "    </tr>\n",
       "    <tr>\n",
       "      <th>1</th>\n",
       "      <td>000002.SZ</td>\n",
       "      <td>000002</td>\n",
       "      <td>万科A</td>\n",
       "      <td>深圳</td>\n",
       "      <td>全国地产</td>\n",
       "      <td>19910129</td>\n",
       "    </tr>\n",
       "    <tr>\n",
       "      <th>2</th>\n",
       "      <td>000004.SZ</td>\n",
       "      <td>000004</td>\n",
       "      <td>ST国华</td>\n",
       "      <td>深圳</td>\n",
       "      <td>软件服务</td>\n",
       "      <td>19910114</td>\n",
       "    </tr>\n",
       "    <tr>\n",
       "      <th>3</th>\n",
       "      <td>000005.SZ</td>\n",
       "      <td>000005</td>\n",
       "      <td>ST星源</td>\n",
       "      <td>深圳</td>\n",
       "      <td>环境保护</td>\n",
       "      <td>19901210</td>\n",
       "    </tr>\n",
       "    <tr>\n",
       "      <th>4</th>\n",
       "      <td>000006.SZ</td>\n",
       "      <td>000006</td>\n",
       "      <td>深振业A</td>\n",
       "      <td>深圳</td>\n",
       "      <td>区域地产</td>\n",
       "      <td>19920427</td>\n",
       "    </tr>\n",
       "    <tr>\n",
       "      <th>...</th>\n",
       "      <td>...</td>\n",
       "      <td>...</td>\n",
       "      <td>...</td>\n",
       "      <td>...</td>\n",
       "      <td>...</td>\n",
       "      <td>...</td>\n",
       "    </tr>\n",
       "    <tr>\n",
       "      <th>5159</th>\n",
       "      <td>873305.BJ</td>\n",
       "      <td>873305</td>\n",
       "      <td>九菱科技</td>\n",
       "      <td>None</td>\n",
       "      <td>None</td>\n",
       "      <td>20221221</td>\n",
       "    </tr>\n",
       "    <tr>\n",
       "      <th>5160</th>\n",
       "      <td>873339.BJ</td>\n",
       "      <td>873339</td>\n",
       "      <td>恒太照明</td>\n",
       "      <td>None</td>\n",
       "      <td>None</td>\n",
       "      <td>20221117</td>\n",
       "    </tr>\n",
       "    <tr>\n",
       "      <th>5161</th>\n",
       "      <td>873527.BJ</td>\n",
       "      <td>873527</td>\n",
       "      <td>夜光明</td>\n",
       "      <td>None</td>\n",
       "      <td>None</td>\n",
       "      <td>20221027</td>\n",
       "    </tr>\n",
       "    <tr>\n",
       "      <th>5162</th>\n",
       "      <td>873593.BJ</td>\n",
       "      <td>873593</td>\n",
       "      <td>鼎智科技</td>\n",
       "      <td>None</td>\n",
       "      <td>None</td>\n",
       "      <td>20230413</td>\n",
       "    </tr>\n",
       "    <tr>\n",
       "      <th>5163</th>\n",
       "      <td>689009.SH</td>\n",
       "      <td>689009</td>\n",
       "      <td>九号公司-WD</td>\n",
       "      <td>北京</td>\n",
       "      <td>摩托车</td>\n",
       "      <td>20201029</td>\n",
       "    </tr>\n",
       "  </tbody>\n",
       "</table>\n",
       "<p>5164 rows × 6 columns</p>\n",
       "</div>"
      ],
      "text/plain": [
       "        ts_code  symbol     name  area industry list_date\n",
       "0     000001.SZ  000001     平安银行    深圳       银行  19910403\n",
       "1     000002.SZ  000002      万科A    深圳     全国地产  19910129\n",
       "2     000004.SZ  000004     ST国华    深圳     软件服务  19910114\n",
       "3     000005.SZ  000005     ST星源    深圳     环境保护  19901210\n",
       "4     000006.SZ  000006     深振业A    深圳     区域地产  19920427\n",
       "...         ...     ...      ...   ...      ...       ...\n",
       "5159  873305.BJ  873305     九菱科技  None     None  20221221\n",
       "5160  873339.BJ  873339     恒太照明  None     None  20221117\n",
       "5161  873527.BJ  873527      夜光明  None     None  20221027\n",
       "5162  873593.BJ  873593     鼎智科技  None     None  20230413\n",
       "5163  689009.SH  689009  九号公司-WD    北京      摩托车  20201029\n",
       "\n",
       "[5164 rows x 6 columns]"
      ]
     },
     "execution_count": 13,
     "metadata": {},
     "output_type": "execute_result"
    }
   ],
   "source": [
    "pro = ts.pro_api()\n",
    "\n",
    "#查询当前所有正常上市交易的股票列表\n",
    "\n",
    "pro.stock_basic(exchange='', list_status='L', fields='ts_code,symbol,name,area,industry,list_date')"
   ]
  },
  {
   "cell_type": "code",
   "execution_count": 14,
   "metadata": {},
   "outputs": [
    {
     "data": {
      "text/html": [
       "<div>\n",
       "<style scoped>\n",
       "    .dataframe tbody tr th:only-of-type {\n",
       "        vertical-align: middle;\n",
       "    }\n",
       "\n",
       "    .dataframe tbody tr th {\n",
       "        vertical-align: top;\n",
       "    }\n",
       "\n",
       "    .dataframe thead th {\n",
       "        text-align: right;\n",
       "    }\n",
       "</style>\n",
       "<table border=\"1\" class=\"dataframe\">\n",
       "  <thead>\n",
       "    <tr style=\"text-align: right;\">\n",
       "      <th></th>\n",
       "      <th>ts_code</th>\n",
       "      <th>symbol</th>\n",
       "      <th>name</th>\n",
       "      <th>area</th>\n",
       "      <th>industry</th>\n",
       "      <th>list_date</th>\n",
       "    </tr>\n",
       "  </thead>\n",
       "  <tbody>\n",
       "    <tr>\n",
       "      <th>0</th>\n",
       "      <td>000001.SZ</td>\n",
       "      <td>000001</td>\n",
       "      <td>平安银行</td>\n",
       "      <td>深圳</td>\n",
       "      <td>银行</td>\n",
       "      <td>19910403</td>\n",
       "    </tr>\n",
       "    <tr>\n",
       "      <th>1</th>\n",
       "      <td>000002.SZ</td>\n",
       "      <td>000002</td>\n",
       "      <td>万科A</td>\n",
       "      <td>深圳</td>\n",
       "      <td>全国地产</td>\n",
       "      <td>19910129</td>\n",
       "    </tr>\n",
       "    <tr>\n",
       "      <th>2</th>\n",
       "      <td>000004.SZ</td>\n",
       "      <td>000004</td>\n",
       "      <td>ST国华</td>\n",
       "      <td>深圳</td>\n",
       "      <td>软件服务</td>\n",
       "      <td>19910114</td>\n",
       "    </tr>\n",
       "    <tr>\n",
       "      <th>3</th>\n",
       "      <td>000005.SZ</td>\n",
       "      <td>000005</td>\n",
       "      <td>ST星源</td>\n",
       "      <td>深圳</td>\n",
       "      <td>环境保护</td>\n",
       "      <td>19901210</td>\n",
       "    </tr>\n",
       "    <tr>\n",
       "      <th>4</th>\n",
       "      <td>000006.SZ</td>\n",
       "      <td>000006</td>\n",
       "      <td>深振业A</td>\n",
       "      <td>深圳</td>\n",
       "      <td>区域地产</td>\n",
       "      <td>19920427</td>\n",
       "    </tr>\n",
       "    <tr>\n",
       "      <th>...</th>\n",
       "      <td>...</td>\n",
       "      <td>...</td>\n",
       "      <td>...</td>\n",
       "      <td>...</td>\n",
       "      <td>...</td>\n",
       "      <td>...</td>\n",
       "    </tr>\n",
       "    <tr>\n",
       "      <th>5159</th>\n",
       "      <td>873305.BJ</td>\n",
       "      <td>873305</td>\n",
       "      <td>九菱科技</td>\n",
       "      <td>None</td>\n",
       "      <td>None</td>\n",
       "      <td>20221221</td>\n",
       "    </tr>\n",
       "    <tr>\n",
       "      <th>5160</th>\n",
       "      <td>873339.BJ</td>\n",
       "      <td>873339</td>\n",
       "      <td>恒太照明</td>\n",
       "      <td>None</td>\n",
       "      <td>None</td>\n",
       "      <td>20221117</td>\n",
       "    </tr>\n",
       "    <tr>\n",
       "      <th>5161</th>\n",
       "      <td>873527.BJ</td>\n",
       "      <td>873527</td>\n",
       "      <td>夜光明</td>\n",
       "      <td>None</td>\n",
       "      <td>None</td>\n",
       "      <td>20221027</td>\n",
       "    </tr>\n",
       "    <tr>\n",
       "      <th>5162</th>\n",
       "      <td>873593.BJ</td>\n",
       "      <td>873593</td>\n",
       "      <td>鼎智科技</td>\n",
       "      <td>None</td>\n",
       "      <td>None</td>\n",
       "      <td>20230413</td>\n",
       "    </tr>\n",
       "    <tr>\n",
       "      <th>5163</th>\n",
       "      <td>689009.SH</td>\n",
       "      <td>689009</td>\n",
       "      <td>九号公司-WD</td>\n",
       "      <td>北京</td>\n",
       "      <td>摩托车</td>\n",
       "      <td>20201029</td>\n",
       "    </tr>\n",
       "  </tbody>\n",
       "</table>\n",
       "<p>5164 rows × 6 columns</p>\n",
       "</div>"
      ],
      "text/plain": [
       "        ts_code  symbol     name  area industry list_date\n",
       "0     000001.SZ  000001     平安银行    深圳       银行  19910403\n",
       "1     000002.SZ  000002      万科A    深圳     全国地产  19910129\n",
       "2     000004.SZ  000004     ST国华    深圳     软件服务  19910114\n",
       "3     000005.SZ  000005     ST星源    深圳     环境保护  19901210\n",
       "4     000006.SZ  000006     深振业A    深圳     区域地产  19920427\n",
       "...         ...     ...      ...   ...      ...       ...\n",
       "5159  873305.BJ  873305     九菱科技  None     None  20221221\n",
       "5160  873339.BJ  873339     恒太照明  None     None  20221117\n",
       "5161  873527.BJ  873527      夜光明  None     None  20221027\n",
       "5162  873593.BJ  873593     鼎智科技  None     None  20230413\n",
       "5163  689009.SH  689009  九号公司-WD    北京      摩托车  20201029\n",
       "\n",
       "[5164 rows x 6 columns]"
      ]
     },
     "execution_count": 14,
     "metadata": {},
     "output_type": "execute_result"
    }
   ],
   "source": [
    "pro.query('stock_basic', exchange='', list_status='L', fields='ts_code,symbol,name,area,industry,list_date')"
   ]
  },
  {
   "cell_type": "code",
   "execution_count": 15,
   "metadata": {},
   "outputs": [
    {
     "data": {
      "text/html": [
       "<div>\n",
       "<style scoped>\n",
       "    .dataframe tbody tr th:only-of-type {\n",
       "        vertical-align: middle;\n",
       "    }\n",
       "\n",
       "    .dataframe tbody tr th {\n",
       "        vertical-align: top;\n",
       "    }\n",
       "\n",
       "    .dataframe thead th {\n",
       "        text-align: right;\n",
       "    }\n",
       "</style>\n",
       "<table border=\"1\" class=\"dataframe\">\n",
       "  <thead>\n",
       "    <tr style=\"text-align: right;\">\n",
       "      <th></th>\n",
       "      <th>ts_code</th>\n",
       "      <th>trade_date</th>\n",
       "      <th>open</th>\n",
       "      <th>high</th>\n",
       "      <th>low</th>\n",
       "      <th>close</th>\n",
       "      <th>pre_close</th>\n",
       "      <th>change</th>\n",
       "      <th>pct_chg</th>\n",
       "      <th>vol</th>\n",
       "      <th>amount</th>\n",
       "    </tr>\n",
       "  </thead>\n",
       "  <tbody>\n",
       "    <tr>\n",
       "      <th>0</th>\n",
       "      <td>830974.BJ</td>\n",
       "      <td>20230327</td>\n",
       "      <td>6.96</td>\n",
       "      <td>7.08</td>\n",
       "      <td>6.96</td>\n",
       "      <td>6.99</td>\n",
       "      <td>7.06</td>\n",
       "      <td>-0.07</td>\n",
       "      <td>-0.9915</td>\n",
       "      <td>2779.87</td>\n",
       "      <td>1946.373</td>\n",
       "    </tr>\n",
       "    <tr>\n",
       "      <th>1</th>\n",
       "      <td>836942.BJ</td>\n",
       "      <td>20230327</td>\n",
       "      <td>10.62</td>\n",
       "      <td>10.68</td>\n",
       "      <td>10.60</td>\n",
       "      <td>10.61</td>\n",
       "      <td>10.68</td>\n",
       "      <td>-0.07</td>\n",
       "      <td>-0.6554</td>\n",
       "      <td>772.00</td>\n",
       "      <td>820.628</td>\n",
       "    </tr>\n",
       "    <tr>\n",
       "      <th>2</th>\n",
       "      <td>430685.BJ</td>\n",
       "      <td>20230327</td>\n",
       "      <td>11.70</td>\n",
       "      <td>11.89</td>\n",
       "      <td>11.50</td>\n",
       "      <td>11.60</td>\n",
       "      <td>11.70</td>\n",
       "      <td>-0.10</td>\n",
       "      <td>-0.8547</td>\n",
       "      <td>3125.02</td>\n",
       "      <td>3636.015</td>\n",
       "    </tr>\n",
       "    <tr>\n",
       "      <th>3</th>\n",
       "      <td>873169.BJ</td>\n",
       "      <td>20230327</td>\n",
       "      <td>6.23</td>\n",
       "      <td>6.38</td>\n",
       "      <td>6.23</td>\n",
       "      <td>6.24</td>\n",
       "      <td>6.25</td>\n",
       "      <td>-0.01</td>\n",
       "      <td>-0.1600</td>\n",
       "      <td>2040.70</td>\n",
       "      <td>1282.579</td>\n",
       "    </tr>\n",
       "    <tr>\n",
       "      <th>4</th>\n",
       "      <td>873223.BJ</td>\n",
       "      <td>20230327</td>\n",
       "      <td>3.40</td>\n",
       "      <td>3.41</td>\n",
       "      <td>3.33</td>\n",
       "      <td>3.37</td>\n",
       "      <td>3.40</td>\n",
       "      <td>-0.03</td>\n",
       "      <td>-0.8824</td>\n",
       "      <td>2418.18</td>\n",
       "      <td>810.700</td>\n",
       "    </tr>\n",
       "    <tr>\n",
       "      <th>...</th>\n",
       "      <td>...</td>\n",
       "      <td>...</td>\n",
       "      <td>...</td>\n",
       "      <td>...</td>\n",
       "      <td>...</td>\n",
       "      <td>...</td>\n",
       "      <td>...</td>\n",
       "      <td>...</td>\n",
       "      <td>...</td>\n",
       "      <td>...</td>\n",
       "      <td>...</td>\n",
       "    </tr>\n",
       "    <tr>\n",
       "      <th>5117</th>\n",
       "      <td>688360.SH</td>\n",
       "      <td>20230327</td>\n",
       "      <td>29.10</td>\n",
       "      <td>29.34</td>\n",
       "      <td>28.80</td>\n",
       "      <td>28.89</td>\n",
       "      <td>29.05</td>\n",
       "      <td>-0.16</td>\n",
       "      <td>-0.5508</td>\n",
       "      <td>9643.95</td>\n",
       "      <td>28026.533</td>\n",
       "    </tr>\n",
       "    <tr>\n",
       "      <th>5118</th>\n",
       "      <td>688362.SH</td>\n",
       "      <td>20230327</td>\n",
       "      <td>30.93</td>\n",
       "      <td>30.97</td>\n",
       "      <td>29.40</td>\n",
       "      <td>30.00</td>\n",
       "      <td>30.80</td>\n",
       "      <td>-0.80</td>\n",
       "      <td>-2.5974</td>\n",
       "      <td>62564.03</td>\n",
       "      <td>188684.898</td>\n",
       "    </tr>\n",
       "    <tr>\n",
       "      <th>5119</th>\n",
       "      <td>688363.SH</td>\n",
       "      <td>20230327</td>\n",
       "      <td>110.03</td>\n",
       "      <td>111.21</td>\n",
       "      <td>108.08</td>\n",
       "      <td>109.58</td>\n",
       "      <td>110.03</td>\n",
       "      <td>-0.45</td>\n",
       "      <td>-0.4090</td>\n",
       "      <td>31381.61</td>\n",
       "      <td>343755.812</td>\n",
       "    </tr>\n",
       "    <tr>\n",
       "      <th>5120</th>\n",
       "      <td>688365.SH</td>\n",
       "      <td>20230327</td>\n",
       "      <td>20.91</td>\n",
       "      <td>24.89</td>\n",
       "      <td>20.20</td>\n",
       "      <td>24.80</td>\n",
       "      <td>20.74</td>\n",
       "      <td>4.06</td>\n",
       "      <td>19.5757</td>\n",
       "      <td>305967.29</td>\n",
       "      <td>688103.828</td>\n",
       "    </tr>\n",
       "    <tr>\n",
       "      <th>5121</th>\n",
       "      <td>688366.SH</td>\n",
       "      <td>20230327</td>\n",
       "      <td>93.34</td>\n",
       "      <td>96.13</td>\n",
       "      <td>91.53</td>\n",
       "      <td>93.72</td>\n",
       "      <td>92.50</td>\n",
       "      <td>1.22</td>\n",
       "      <td>1.3189</td>\n",
       "      <td>5515.93</td>\n",
       "      <td>51995.274</td>\n",
       "    </tr>\n",
       "  </tbody>\n",
       "</table>\n",
       "<p>5122 rows × 11 columns</p>\n",
       "</div>"
      ],
      "text/plain": [
       "        ts_code trade_date    open    high     low   close  pre_close  change  \\\n",
       "0     830974.BJ   20230327    6.96    7.08    6.96    6.99       7.06   -0.07   \n",
       "1     836942.BJ   20230327   10.62   10.68   10.60   10.61      10.68   -0.07   \n",
       "2     430685.BJ   20230327   11.70   11.89   11.50   11.60      11.70   -0.10   \n",
       "3     873169.BJ   20230327    6.23    6.38    6.23    6.24       6.25   -0.01   \n",
       "4     873223.BJ   20230327    3.40    3.41    3.33    3.37       3.40   -0.03   \n",
       "...         ...        ...     ...     ...     ...     ...        ...     ...   \n",
       "5117  688360.SH   20230327   29.10   29.34   28.80   28.89      29.05   -0.16   \n",
       "5118  688362.SH   20230327   30.93   30.97   29.40   30.00      30.80   -0.80   \n",
       "5119  688363.SH   20230327  110.03  111.21  108.08  109.58     110.03   -0.45   \n",
       "5120  688365.SH   20230327   20.91   24.89   20.20   24.80      20.74    4.06   \n",
       "5121  688366.SH   20230327   93.34   96.13   91.53   93.72      92.50    1.22   \n",
       "\n",
       "      pct_chg        vol      amount  \n",
       "0     -0.9915    2779.87    1946.373  \n",
       "1     -0.6554     772.00     820.628  \n",
       "2     -0.8547    3125.02    3636.015  \n",
       "3     -0.1600    2040.70    1282.579  \n",
       "4     -0.8824    2418.18     810.700  \n",
       "...       ...        ...         ...  \n",
       "5117  -0.5508    9643.95   28026.533  \n",
       "5118  -2.5974   62564.03  188684.898  \n",
       "5119  -0.4090   31381.61  343755.812  \n",
       "5120  19.5757  305967.29  688103.828  \n",
       "5121   1.3189    5515.93   51995.274  \n",
       "\n",
       "[5122 rows x 11 columns]"
      ]
     },
     "execution_count": 15,
     "metadata": {},
     "output_type": "execute_result"
    }
   ],
   "source": [
    "pro.daily(trade_date='20230327')"
   ]
  },
  {
   "cell_type": "code",
   "execution_count": 19,
   "metadata": {},
   "outputs": [
    {
     "data": {
      "text/plain": [
       "{'000587.SZ', '002184.SZ', '300330.SZ', '301314.SZ'}"
      ]
     },
     "execution_count": 19,
     "metadata": {},
     "output_type": "execute_result"
    }
   ],
   "source": [
    "listed=pro.query('stock_basic', exchange='', list_status='L', fields='ts_code,trade_date,name,area,industry,list_date')\n",
    "traded=pro.daily(trade_date='20230327')\n",
    "set(listed.ts_code)-set(traded.ts_code)"
   ]
  },
  {
   "cell_type": "code",
   "execution_count": 21,
   "metadata": {},
   "outputs": [
    {
     "data": {
      "text/plain": [
       "False"
      ]
     },
     "execution_count": 21,
     "metadata": {},
     "output_type": "execute_result"
    }
   ],
   "source": [
    "'600139.SH' in listed.ts_code"
   ]
  },
  {
   "cell_type": "code",
   "execution_count": 20,
   "metadata": {},
   "outputs": [
    {
     "data": {
      "text/html": [
       "<div>\n",
       "<style scoped>\n",
       "    .dataframe tbody tr th:only-of-type {\n",
       "        vertical-align: middle;\n",
       "    }\n",
       "\n",
       "    .dataframe tbody tr th {\n",
       "        vertical-align: top;\n",
       "    }\n",
       "\n",
       "    .dataframe thead th {\n",
       "        text-align: right;\n",
       "    }\n",
       "</style>\n",
       "<table border=\"1\" class=\"dataframe\">\n",
       "  <thead>\n",
       "    <tr style=\"text-align: right;\">\n",
       "      <th></th>\n",
       "      <th>ts_code</th>\n",
       "      <th>trade_date</th>\n",
       "      <th>open</th>\n",
       "      <th>high</th>\n",
       "      <th>low</th>\n",
       "      <th>close</th>\n",
       "      <th>pre_close</th>\n",
       "      <th>change</th>\n",
       "      <th>pct_chg</th>\n",
       "      <th>vol</th>\n",
       "      <th>amount</th>\n",
       "    </tr>\n",
       "  </thead>\n",
       "  <tbody>\n",
       "  </tbody>\n",
       "</table>\n",
       "</div>"
      ],
      "text/plain": [
       "Empty DataFrame\n",
       "Columns: [ts_code, trade_date, open, high, low, close, pre_close, change, pct_chg, vol, amount]\n",
       "Index: []"
      ]
     },
     "execution_count": 20,
     "metadata": {},
     "output_type": "execute_result"
    }
   ],
   "source": [
    "traded[traded.ts_code=='600139.SH']"
   ]
  }
 ],
 "metadata": {
  "kernelspec": {
   "display_name": "lh",
   "language": "python",
   "name": "python3"
  },
  "language_info": {
   "codemirror_mode": {
    "name": "ipython",
    "version": 3
   },
   "file_extension": ".py",
   "mimetype": "text/x-python",
   "name": "python",
   "nbconvert_exporter": "python",
   "pygments_lexer": "ipython3",
   "version": "3.10.8"
  },
  "orig_nbformat": 4,
  "vscode": {
   "interpreter": {
    "hash": "6f2b73cf8877edd21a7d02cfa96c3c39a5f372a2ca7fff319e5598761c2f7d29"
   }
  }
 },
 "nbformat": 4,
 "nbformat_minor": 2
}
