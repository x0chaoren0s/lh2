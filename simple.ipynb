{
 "cells": [
  {
   "attachments": {},
   "cell_type": "markdown",
   "metadata": {},
   "source": [
    "#### 获取所有2板及以上的票"
   ]
  },
  {
   "cell_type": "code",
   "execution_count": 3,
   "metadata": {},
   "outputs": [],
   "source": [
    "beg_date = '20220101'\n",
    "end_date = '20221231'\n",
    "date2pool = dict()"
   ]
  },
  {
   "cell_type": "code",
   "execution_count": 4,
   "metadata": {},
   "outputs": [],
   "source": [
    "from lh.stockinfo import AllStock_daily, SingleStock_daily\n",
    "from lh.time import Trade_time\n",
    "from tqdm import tqdm\n",
    "\n",
    "tt = Trade_time()\n",
    "asd = AllStock_daily()\n",
    "ssd = SingleStock_daily()"
   ]
  },
  {
   "cell_type": "code",
   "execution_count": 5,
   "metadata": {},
   "outputs": [
    {
     "name": "stderr",
     "output_type": "stream",
     "text": [
      "100%|██████████| 243/243 [06:55<00:00,  1.71s/it]\n"
     ]
    }
   ],
   "source": [
    "trade_dates = tt.getTradeDateList()\n",
    "for trade_date in tqdm(trade_dates):\n",
    "    pool = asd.get_least_2bans_list(trade_date=trade_date)\n",
    "    if len(pool):\n",
    "        date2pool[trade_date] = pool"
   ]
  },
  {
   "cell_type": "code",
   "execution_count": 6,
   "metadata": {},
   "outputs": [
    {
     "data": {
      "text/plain": [
       "243"
      ]
     },
     "execution_count": 6,
     "metadata": {},
     "output_type": "execute_result"
    }
   ],
   "source": [
    "len(date2pool)"
   ]
  },
  {
   "attachments": {},
   "cell_type": "markdown",
   "metadata": {},
   "source": [
    "#### 2板及以上票的连扳概率"
   ]
  },
  {
   "cell_type": "code",
   "execution_count": 7,
   "metadata": {},
   "outputs": [],
   "source": [
    "for date in date2pool.keys():\n",
    "    pool = date2pool[date]\n",
    "    date2pool[date] = {ts_code: dict() for ts_code in pool}"
   ]
  },
  {
   "cell_type": "code",
   "execution_count": 8,
   "metadata": {},
   "outputs": [],
   "source": [
    "for date in date2pool.keys():\n",
    "    for ts_code in date2pool[date]:\n",
    "        nextdate = tt.nextTradeDate(date=date)\n",
    "        date2pool[date][ts_code]['nextIs_ban'] = nextdate in date2pool and ts_code in date2pool[nextdate]       "
   ]
  },
  {
   "cell_type": "code",
   "execution_count": 9,
   "metadata": {},
   "outputs": [
    {
     "name": "stdout",
     "output_type": "stream",
     "text": [
      "2129 4799 0.4436340904355074\n"
     ]
    }
   ],
   "source": [
    "num_2banplus = 0\n",
    "num_2banplus_still = 0\n",
    "for date in date2pool:\n",
    "    num_2banplus += len(date2pool[date])\n",
    "    for ts_code in date2pool[date]:\n",
    "        if date2pool[date][ts_code]['nextIs_ban']:\n",
    "            num_2banplus_still += 1\n",
    "print(num_2banplus_still,num_2banplus,num_2banplus_still/num_2banplus)"
   ]
  },
  {
   "attachments": {},
   "cell_type": "markdown",
   "metadata": {},
   "source": [
    "#### 查看无脑2进3成功率"
   ]
  },
  {
   "cell_type": "code",
   "execution_count": 10,
   "metadata": {},
   "outputs": [],
   "source": [
    "date2pool_ban_2_only = dict()"
   ]
  },
  {
   "cell_type": "code",
   "execution_count": 13,
   "metadata": {},
   "outputs": [
    {
     "name": "stderr",
     "output_type": "stream",
     "text": [
      "100%|██████████| 243/243 [02:02<00:00,  1.99it/s]\n"
     ]
    }
   ],
   "source": [
    "date2pool_ban_2_only.clear()\n",
    "for trade_date in tqdm(trade_dates):\n",
    "    pool = asd.get_only_k_bans_list(2,trade_date,False,True)\n",
    "    if len(pool)>0:\n",
    "        date2pool_ban_2_only[trade_date] = pool"
   ]
  },
  {
   "cell_type": "code",
   "execution_count": 14,
   "metadata": {},
   "outputs": [
    {
     "name": "stderr",
     "output_type": "stream",
     "text": [
      "100%|██████████| 243/243 [04:00<00:00,  1.01it/s]\n"
     ]
    }
   ],
   "source": [
    "date2pool_ban_3_only = dict()\n",
    "for trade_date in tqdm(trade_dates):\n",
    "    pool = asd.get_only_k_bans_list(3,trade_date,False,True)\n",
    "    if len(pool)>0:\n",
    "        date2pool_ban_3_only[trade_date] = pool"
   ]
  },
  {
   "cell_type": "code",
   "execution_count": 15,
   "metadata": {},
   "outputs": [
    {
     "name": "stderr",
     "output_type": "stream",
     "text": [
      "100%|██████████| 242/242 [00:00<00:00, 691.98it/s]"
     ]
    },
    {
     "name": "stdout",
     "output_type": "stream",
     "text": [
      "968 2567 0.37709388391118037\n"
     ]
    },
    {
     "name": "stderr",
     "output_type": "stream",
     "text": [
      "\n"
     ]
    }
   ],
   "source": [
    "num_ban_2_only = 0\n",
    "num_ban_2_only_stillban = 0\n",
    "for trade_date in tqdm(trade_dates[:-1]):\n",
    "    num_ban_2_only += len(date2pool_ban_2_only[trade_date])\n",
    "    next_date = tt.nextTradeDate(trade_date)\n",
    "    if next_date in date2pool_ban_3_only:\n",
    "        num_ban_2_only_stillban += len(set(date2pool_ban_2_only[trade_date])&set(date2pool_ban_3_only[next_date]))\n",
    "print(num_ban_2_only_stillban,num_ban_2_only,num_ban_2_only_stillban/num_ban_2_only)"
   ]
  }
 ],
 "metadata": {
  "kernelspec": {
   "display_name": "lh",
   "language": "python",
   "name": "python3"
  },
  "language_info": {
   "codemirror_mode": {
    "name": "ipython",
    "version": 3
   },
   "file_extension": ".py",
   "mimetype": "text/x-python",
   "name": "python",
   "nbconvert_exporter": "python",
   "pygments_lexer": "ipython3",
   "version": "3.10.8"
  },
  "orig_nbformat": 4
 },
 "nbformat": 4,
 "nbformat_minor": 2
}
